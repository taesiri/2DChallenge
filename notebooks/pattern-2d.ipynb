{
 "cells": [
  {
   "cell_type": "markdown",
   "metadata": {},
   "source": [
    "# Complex form"
   ]
  },
  {
   "cell_type": "code",
   "execution_count": 16,
   "metadata": {},
   "outputs": [],
   "source": [
    "import numpy as np\n",
    "import random\n",
    "\n",
    "# For crosscorelation\n",
    "from scipy import signal\n",
    "from scipy import misc\n",
    "\n",
    "# for exporting\n",
    "import codecs, json"
   ]
  },
  {
   "cell_type": "code",
   "execution_count": 2,
   "metadata": {},
   "outputs": [],
   "source": [
    "# Numpy usage here is totally optional, you can use plain list comprehension like this [ L[i:i+3] for i in range(0, 9, 3)]\n",
    "# * is our padding/wildcard character that matches with every character\n",
    "\n",
    "CROSS = np.reshape(list('F*F*X*F*F'), (3, 3))\n",
    "BEND  = np.reshape(list('F**F**XXX'), (3, 3))\n",
    "ARROW = np.reshape(list('S*WSW*SSS'), (3, 3))\n",
    "\n",
    "P = {'CROSS': CROSS, 'BEND': BEND, 'ARROW': ARROW}"
   ]
  },
  {
   "cell_type": "code",
   "execution_count": 3,
   "metadata": {},
   "outputs": [],
   "source": [
    "def sample_input(N, M) -> (np.ndarray, int, int, np.ndarray):\n",
    "  # Generate random Matrix\n",
    "  vfunc = np.vectorize(lambda x: chr(x))\n",
    "  output = np.random.randint(97, 122+1, size=(N, M))\n",
    "  output = vfunc(output)\n",
    "  \n",
    "  # Select a random pattern to put inside the Matrix\n",
    "  rkey = random.choice(list(P.keys()))\n",
    "  selected_pattern = P[rkey]\n",
    "  sX, sY = selected_pattern.shape\n",
    "  \n",
    "  startX = random.randint(0, N-sX)\n",
    "  startY = random.randint(0, M-sY)\n",
    "  \n",
    "  # Put a pattern inside random Matrix\n",
    "  output[startX:startX+sX, startY:startY+sY] = selected_pattern\n",
    "  \n",
    "  return output, startX, startY, rkey"
   ]
  },
  {
   "cell_type": "code",
   "execution_count": 4,
   "metadata": {},
   "outputs": [
    {
     "name": "stdout",
     "output_type": "stream",
     "text": [
      "[['o' 'm' 'b' 'u' 's']\n",
      " ['v' 'S' '*' 'W' 'y']\n",
      " ['w' 'S' 'W' '*' 'z']\n",
      " ['y' 'S' 'S' 'S' 'c']]\n",
      "(1, 1)\n",
      "ARROW\n"
     ]
    }
   ],
   "source": [
    "A = sample_input(4, 5)\n",
    "print(A[0])\n",
    "print(A[-3:-1])\n",
    "print(A[-1])"
   ]
  },
  {
   "cell_type": "code",
   "execution_count": 5,
   "metadata": {},
   "outputs": [],
   "source": [
    "# Generating some testcases\n",
    "random_shapes = [(random.randint(3,100), random.randint(3,100)) for _ in range(100)]\n",
    "TC = [sample_input(x, y) for x, y in random_shapes]"
   ]
  },
  {
   "cell_type": "code",
   "execution_count": 6,
   "metadata": {},
   "outputs": [],
   "source": [
    "# Preprocessing Helpers\n",
    "\n",
    "def preprocess_pattern(inpattern) -> np.ndarray:\n",
    "  output = inpattern.copy()\n",
    "  vfunc = np.vectorize(lambda x: 0 if x == '*' else ord(x))\n",
    "  output = vfunc(output).astype(np.int32)\n",
    "  return output\n",
    "\n",
    "def pattern_match_number(pattern) -> int:\n",
    "  return np.sum(pattern**2)\n",
    "\n",
    "def preprocess_input(matrix) -> np.ndarray:\n",
    "  vfunc = np.vectorize(lambda x: ord(x))\n",
    "  return vfunc(matrix).astype(np.int32)"
   ]
  },
  {
   "cell_type": "code",
   "execution_count": 7,
   "metadata": {},
   "outputs": [],
   "source": [
    "def elementwise_check(sliceM, pattern) -> bool:\n",
    "  sliceM = sliceM.reshape(-1)\n",
    "  pattern = pattern.reshape(-1)\n",
    "  return all([True if (y == 0) else x==y for x, y in zip(sliceM, pattern)])\n",
    "  \n",
    "def pattern_matching(matrix) -> (bool, list):\n",
    "  \n",
    "  matched = False\n",
    "  matched_list = []\n",
    "  matrix = preprocess_input(matrix)\n",
    "  \n",
    "  for pname in P:\n",
    "    \n",
    "    current_pattern = preprocess_pattern(P[pname])\n",
    "    match_key = pattern_match_number(current_pattern)\n",
    "    \n",
    "    c2d = signal.correlate2d(matrix, current_pattern, mode='same')\n",
    "    candidates = zip(*np.where(c2d==match_key))\n",
    "    \n",
    "    for cd in candidates:\n",
    "      x, y = cd\n",
    "      w, h = current_pattern.shape\n",
    "      sliceM = matrix[x-1:x-1+w, y-1:y-1+h]\n",
    "      if (elementwise_check (sliceM, current_pattern)):\n",
    "#         print(\"Found a Match\")\n",
    "        matched_list.append([pname, (x-1, y-1)])\n",
    "        matched = True\n",
    "  \n",
    "  return matched, matched_list"
   ]
  },
  {
   "cell_type": "code",
   "execution_count": 8,
   "metadata": {},
   "outputs": [
    {
     "name": "stdout",
     "output_type": "stream",
     "text": [
      "(True, [['BEND', (169, 230)]])\n",
      "(array([['p', 's', 't', ..., 'z', 'y', 'v'],\n",
      "       ['y', 'r', 'k', ..., 'w', 'x', 'q'],\n",
      "       ['l', 'h', 'e', ..., 'o', 'k', 'r'],\n",
      "       ...,\n",
      "       ['f', 'y', 'a', ..., 'q', 'x', 'v'],\n",
      "       ['w', 'q', 'y', ..., 'q', 'l', 'd'],\n",
      "       ['o', 'w', 'z', ..., 'j', 'j', 'e']], dtype='<U1'), 169, 230, 'BEND')\n"
     ]
    }
   ],
   "source": [
    "myTC = sample_input(250,250)\n",
    "print(pattern_matching(myTC[0]))\n",
    "print(myTC)"
   ]
  },
  {
   "cell_type": "code",
   "execution_count": 9,
   "metadata": {},
   "outputs": [
    {
     "data": {
      "text/plain": [
       "[['BEND', (True, [['BEND', (23, 47)]])],\n",
       " ['ARROW', (True, [['ARROW', (9, 10)]])],\n",
       " ['CROSS', (True, [['CROSS', (10, 6)]])],\n",
       " ['CROSS', (True, [['CROSS', (0, 44)]])],\n",
       " ['ARROW', (True, [['ARROW', (44, 30)]])],\n",
       " ['CROSS', (True, [['CROSS', (37, 10)]])],\n",
       " ['ARROW', (True, [['ARROW', (9, 11)]])],\n",
       " ['BEND', (True, [['BEND', (2, 34)]])],\n",
       " ['ARROW', (True, [['ARROW', (15, 17)]])],\n",
       " ['ARROW', (True, [['ARROW', (35, 2)]])],\n",
       " ['ARROW', (True, [['ARROW', (0, 9)]])],\n",
       " ['BEND', (True, [['BEND', (26, 10)]])],\n",
       " ['ARROW', (True, [['ARROW', (2, 59)]])],\n",
       " ['ARROW', (True, [['ARROW', (1, 24)]])],\n",
       " ['BEND', (True, [['BEND', (1, 7)]])],\n",
       " ['ARROW', (True, [['ARROW', (7, 25)]])],\n",
       " ['BEND', (True, [['BEND', (33, 30)]])],\n",
       " ['ARROW', (True, [['ARROW', (25, 49)]])],\n",
       " ['ARROW', (True, [['ARROW', (65, 1)]])],\n",
       " ['CROSS', (True, [['CROSS', (13, 12)]])],\n",
       " ['CROSS', (True, [['CROSS', (14, 10)]])],\n",
       " ['CROSS', (True, [['CROSS', (62, 18)]])],\n",
       " ['ARROW', (True, [['ARROW', (23, 53)]])],\n",
       " ['CROSS', (True, [['CROSS', (86, 30)]])],\n",
       " ['ARROW', (True, [['ARROW', (30, 47)]])],\n",
       " ['BEND', (True, [['BEND', (32, 4)]])],\n",
       " ['ARROW', (True, [['ARROW', (77, 46)]])],\n",
       " ['ARROW', (True, [['ARROW', (35, 29)]])],\n",
       " ['ARROW', (True, [['ARROW', (46, 8)]])],\n",
       " ['ARROW', (True, [['ARROW', (45, 15)]])],\n",
       " ['BEND', (True, [['BEND', (58, 3)]])],\n",
       " ['ARROW', (True, [['ARROW', (17, 19)]])],\n",
       " ['ARROW', (True, [['ARROW', (1, 10)]])],\n",
       " ['BEND', (True, [['BEND', (9, 4)]])],\n",
       " ['BEND', (True, [['BEND', (64, 3)]])],\n",
       " ['CROSS', (True, [['CROSS', (30, 67)]])],\n",
       " ['BEND', (True, [['BEND', (71, 0)]])],\n",
       " ['ARROW', (True, [['ARROW', (60, 70)]])],\n",
       " ['CROSS', (True, [['CROSS', (26, 28)]])],\n",
       " ['ARROW', (True, [['ARROW', (53, 16)]])],\n",
       " ['CROSS', (True, [['CROSS', (4, 8)]])],\n",
       " ['CROSS', (True, [['CROSS', (1, 21)]])],\n",
       " ['CROSS', (True, [['CROSS', (36, 1)]])],\n",
       " ['BEND', (True, [['BEND', (6, 22)]])],\n",
       " ['ARROW', (True, [['ARROW', (8, 29)]])],\n",
       " ['ARROW', (True, [['ARROW', (4, 0)]])],\n",
       " ['BEND', (True, [['BEND', (55, 52)]])],\n",
       " ['BEND', (True, [['BEND', (38, 29)]])],\n",
       " ['BEND', (True, [['BEND', (11, 0)]])],\n",
       " ['CROSS', (True, [['CROSS', (12, 26)]])],\n",
       " ['ARROW', (True, [['ARROW', (13, 9)]])],\n",
       " ['CROSS', (True, [['CROSS', (22, 6)]])],\n",
       " ['BEND', (True, [['BEND', (6, 38)]])],\n",
       " ['ARROW', (True, [['ARROW', (0, 13)]])],\n",
       " ['ARROW', (True, [['ARROW', (3, 0)]])],\n",
       " ['ARROW', (True, [['ARROW', (0, 5)]])],\n",
       " ['CROSS', (True, [['CROSS', (25, 53)]])],\n",
       " ['CROSS', (True, [['CROSS', (0, 61)]])],\n",
       " ['ARROW', (True, [['ARROW', (88, 7)]])],\n",
       " ['ARROW', (True, [['ARROW', (81, 31)]])],\n",
       " ['ARROW', (True, [['ARROW', (12, 22)]])],\n",
       " ['CROSS', (True, [['CROSS', (63, 25)]])],\n",
       " ['CROSS', (True, [['CROSS', (0, 1)]])],\n",
       " ['CROSS', (True, [['CROSS', (29, 31)]])],\n",
       " ['ARROW', (True, [['ARROW', (27, 16)]])],\n",
       " ['CROSS', (True, [['CROSS', (34, 15)]])],\n",
       " ['CROSS', (True, [['CROSS', (35, 47)]])],\n",
       " ['CROSS', (True, [['CROSS', (45, 9)]])],\n",
       " ['BEND', (True, [['BEND', (3, 12)]])],\n",
       " ['CROSS', (True, [['CROSS', (30, 14)]])],\n",
       " ['BEND', (True, [['BEND', (76, 16)]])],\n",
       " ['CROSS', (True, [['CROSS', (2, 1)]])],\n",
       " ['ARROW', (True, [['ARROW', (1, 2)]])],\n",
       " ['CROSS', (True, [['CROSS', (3, 36)]])],\n",
       " ['ARROW', (True, [['ARROW', (20, 9)]])],\n",
       " ['CROSS', (True, [['CROSS', (0, 29)]])],\n",
       " ['BEND', (True, [['BEND', (24, 0)]])],\n",
       " ['ARROW', (True, [['ARROW', (24, 14)]])],\n",
       " ['BEND', (True, [['BEND', (4, 70)]])],\n",
       " ['BEND', (True, [['BEND', (32, 2)]])],\n",
       " ['CROSS', (True, [['CROSS', (3, 49)]])],\n",
       " ['BEND', (True, [['BEND', (56, 26)]])],\n",
       " ['CROSS', (True, [['CROSS', (45, 10)]])],\n",
       " ['CROSS', (True, [['CROSS', (65, 3)]])],\n",
       " ['ARROW', (True, [['ARROW', (20, 8)]])],\n",
       " ['ARROW', (True, [['ARROW', (6, 7)]])],\n",
       " ['BEND', (True, [['BEND', (51, 44)]])],\n",
       " ['CROSS', (True, [['CROSS', (0, 22)]])],\n",
       " ['ARROW', (True, [['ARROW', (5, 22)]])],\n",
       " ['BEND', (True, [['BEND', (7, 72)]])],\n",
       " ['BEND', (True, [['BEND', (17, 16)]])],\n",
       " ['ARROW', (True, [['ARROW', (13, 53)]])],\n",
       " ['BEND', (True, [['BEND', (10, 4)]])],\n",
       " ['ARROW', (True, [['ARROW', (4, 0)]])],\n",
       " ['BEND', (True, [['BEND', (5, 46)]])],\n",
       " ['CROSS', (True, [['CROSS', (11, 17)]])],\n",
       " ['CROSS', (True, [['CROSS', (0, 47)]])],\n",
       " ['CROSS', (True, [['CROSS', (35, 73)]])],\n",
       " ['CROSS', (True, [['CROSS', (67, 42)]])],\n",
       " ['BEND', (True, [['BEND', (7, 54)]])]]"
      ]
     },
     "execution_count": 9,
     "metadata": {},
     "output_type": "execute_result"
    }
   ],
   "source": [
    "# does it work ?\n",
    "[[sample[-1] ,pattern_matching(sample[0])] for sample in TC]"
   ]
  },
  {
   "cell_type": "code",
   "execution_count": null,
   "metadata": {},
   "outputs": [],
   "source": []
  },
  {
   "cell_type": "markdown",
   "metadata": {},
   "source": [
    "# Simpler form"
   ]
  },
  {
   "cell_type": "code",
   "execution_count": 10,
   "metadata": {},
   "outputs": [],
   "source": [
    "CROSS = np.reshape(list('F.F.X.F.F'), (3, 3))\n",
    "BEND  = np.reshape(list('F..F..XXX'), (3, 3))\n",
    "ARROW = np.reshape(list('S.WSW.SSS'), (3, 3))\n",
    "\n",
    "P = {'CROSS': CROSS, 'BEND': BEND, 'ARROW': ARROW}"
   ]
  },
  {
   "cell_type": "code",
   "execution_count": 11,
   "metadata": {},
   "outputs": [],
   "source": [
    "def sample_input(N, M) -> (np.ndarray, int, int, np.ndarray):\n",
    "  # generating a placeholder matrix filled with pad character '.'\n",
    "  output = np.repeat('.', N*M).reshape(N, M)\n",
    "  \n",
    "  # Select a random pattern to put inside the Matrix\n",
    "  rkey = random.choice(list(P.keys()))\n",
    "  selected_pattern = P[rkey]\n",
    "  sX, sY = selected_pattern.shape\n",
    "  \n",
    "  startX = random.randint(0, N-sX)\n",
    "  startY = random.randint(0, M-sY)\n",
    "  \n",
    "  # Put a pattern inside random Matrix\n",
    "  output[startX:startX+sX, startY:startY+sY] = selected_pattern\n",
    "  \n",
    "  return output, startX, startY, rkey"
   ]
  },
  {
   "cell_type": "code",
   "execution_count": 12,
   "metadata": {},
   "outputs": [],
   "source": [
    "def elementwise_check(sliceM, pattern) -> bool:\n",
    "  if (sliceM.shape != pattern.shape):\n",
    "    return (False, '')\n",
    "  \n",
    "  sliceM = sliceM.reshape(-1)\n",
    "  pattern = pattern.reshape(-1)\n",
    "  return all([True if (y == 0) else x==y for x, y in zip(sliceM, pattern)])\n",
    "  \n",
    "def pattern_matching(matrix) -> (bool, str):\n",
    "  # clear up th input matrix\n",
    "  matrix = matrix[~np.all(matrix=='.', axis=1)] # Removing empty rows\n",
    "  matrix = matrix[:, ~np.all(matrix=='.', axis=0)] # Removing empty columns\n",
    "  \n",
    "  matched_list = []\n",
    "  \n",
    "  for pkey in P:\n",
    "    if elementwise_check(matrix, P[pkey]): matched_list.append(pkey)\n",
    "    \n",
    "  return (True, matched_list[0]) if len(matched_list) == 1 else (False, '')"
   ]
  },
  {
   "cell_type": "code",
   "execution_count": 13,
   "metadata": {},
   "outputs": [],
   "source": [
    "random_shapes = [(random.randint(3,100), random.randint(3,100)) for _ in range(100)]\n",
    "TC = [sample_input(x, y) for x, y in random_shapes]"
   ]
  },
  {
   "cell_type": "code",
   "execution_count": 14,
   "metadata": {},
   "outputs": [
    {
     "data": {
      "text/plain": [
       "True"
      ]
     },
     "execution_count": 14,
     "metadata": {},
     "output_type": "execute_result"
    }
   ],
   "source": [
    "# test against all test cases!\n",
    "np.all([pattern_matching(x)[1] == w for x, _, _, w in TC])"
   ]
  }
 ],
 "metadata": {
  "kernelspec": {
   "display_name": "Python 3",
   "language": "python",
   "name": "python3"
  },
  "language_info": {
   "codemirror_mode": {
    "name": "ipython",
    "version": 3
   },
   "file_extension": ".py",
   "mimetype": "text/x-python",
   "name": "python",
   "nbconvert_exporter": "python",
   "pygments_lexer": "ipython3",
   "version": "3.7.2"
  }
 },
 "nbformat": 4,
 "nbformat_minor": 2
}
